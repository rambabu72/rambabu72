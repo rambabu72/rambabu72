{
 "cells": [
  {
   "cell_type": "code",
   "execution_count": 1,
   "id": "be7d9555",
   "metadata": {},
   "outputs": [],
   "source": [
    "# fibonacci number series"
   ]
  },
  {
   "cell_type": "code",
   "execution_count": null,
   "id": "d27821c1",
   "metadata": {},
   "outputs": [],
   "source": [
    "# this is answer"
   ]
  },
  {
   "cell_type": "code",
   "execution_count": 11,
   "id": "ecf7ab9e",
   "metadata": {},
   "outputs": [
    {
     "name": "stdout",
     "output_type": "stream",
     "text": [
      "enter your number you want in series  9\n",
      "1\n",
      "1\n",
      "2\n",
      "3\n",
      "5\n",
      "8\n",
      "13\n",
      "21\n",
      "34\n"
     ]
    }
   ],
   "source": [
    "n = int(input(\"enter your number you want in series  \"))\n",
    "first = 1\n",
    "second = 1\n",
    "for i in range(n):\n",
    "    print(first)\n",
    "    temp = first\n",
    "    first = second\n",
    "    second = temp+second"
   ]
  },
  {
   "cell_type": "code",
   "execution_count": null,
   "id": "e4acdee2",
   "metadata": {},
   "outputs": [],
   "source": []
  }
 ],
 "metadata": {
  "kernelspec": {
   "display_name": "Python 3 (ipykernel)",
   "language": "python",
   "name": "python3"
  },
  "language_info": {
   "codemirror_mode": {
    "name": "ipython",
    "version": 3
   },
   "file_extension": ".py",
   "mimetype": "text/x-python",
   "name": "python",
   "nbconvert_exporter": "python",
   "pygments_lexer": "ipython3",
   "version": "3.9.7"
  }
 },
 "nbformat": 4,
 "nbformat_minor": 5
}
